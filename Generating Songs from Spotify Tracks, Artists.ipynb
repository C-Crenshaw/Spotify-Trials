{
 "cells": [
  {
   "cell_type": "code",
   "execution_count": 23,
   "metadata": {},
   "outputs": [],
   "source": [
    "import requests"
   ]
  },
  {
   "cell_type": "code",
   "execution_count": 35,
   "metadata": {},
   "outputs": [
    {
     "name": "stdout",
     "output_type": "stream",
     "text": [
      "Recommended Songs:\n",
      "1) \"Everything She Wants\" by Wham!\n",
      "2) \"Summer Days\" by Rhye\n",
      "3) \"I Can't Go for That (No Can Do)\" by Daryl Hall & John Oates\n",
      "4) \"Wraith Pinned to the Mist and Other Games\" by of Montreal\n",
      "5) \"Nuggets (feat. Bonzai)\" by Mura Masa\n",
      "6) \"South of the River\" by Tom Misch\n",
      "7) \"Don't Touch My Hair (feat. Sampha)\" by Solange\n",
      "8) \"Petals\" by TOPS\n",
      "9) \"Funkytown\" by Lipps Inc.\n",
      "10) \"Celebration\" by Kool & The Gang\n"
     ]
    }
   ],
   "source": [
    "# SETTINGS \n",
    "endpoint_url = \"https://api.spotify.com/v1/recommendations?\"\n",
    "token = \"BQDJvrJgFT8W5_ldgEweQ0ev-4VxBBf6Q5j-RnTLcAliMvo2rt94DdUmVkRPY0xRCYnvytod-Q92SWymiKQEgBfMeCqIWHLz_vr5fZEd0n0IqRT95zfqR5HgtmL050P2DNbIzGUksCMM7KOnaNXThajXcZXWMJUN56GTmTbPijYSO9tFRAkSpg\"\n",
    "user_id = \"carsongcrenshaw\"\n",
    "\n",
    "# OUR FILTERS\n",
    "limit=10\n",
    "market=\"US\"\n",
    "seed_genres=\"indie\"\n",
    "target_danceability=0.9\n",
    "uris = [] \n",
    "seed_artists = '1LZEQNv7sE11VDY3SdxQeN'\n",
    "seed_tracks='2cX2coZS1PYBfPs8wgbdWE'\n",
    "\n",
    "# PERFORM THE QUERY\n",
    "query = f'{endpoint_url}limit={limit}&market={market}&seed_genres={seed_genres}&target_danceability={target_danceability}'\n",
    "query += f'&seed_artists={seed_artists}'\n",
    "query += f'&seed_tracks={seed_tracks}'\n",
    "\n",
    "response = requests.get(query, \n",
    "               headers={\"Content-Type\":\"application/json\", \n",
    "                        \"Authorization\":f\"Bearer {token}\"})\n",
    "json_response = response.json()\n",
    "\n",
    "print('Recommended Songs:')\n",
    "for i,j in enumerate(json_response['tracks']):\n",
    "            uris.append(j['uri'])\n",
    "            print(f\"{i+1}) \\\"{j['name']}\\\" by {j['artists'][0]['name']}\")"
   ]
  }
 ],
 "metadata": {
  "kernelspec": {
   "display_name": "Python [conda env:dsua-111]",
   "language": "python",
   "name": "conda-env-dsua-111-py"
  },
  "language_info": {
   "codemirror_mode": {
    "name": "ipython",
    "version": 3
   },
   "file_extension": ".py",
   "mimetype": "text/x-python",
   "name": "python",
   "nbconvert_exporter": "python",
   "pygments_lexer": "ipython3",
   "version": "3.7.7"
  }
 },
 "nbformat": 4,
 "nbformat_minor": 4
}
