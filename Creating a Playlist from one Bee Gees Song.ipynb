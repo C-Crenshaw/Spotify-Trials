{
 "cells": [
  {
   "cell_type": "code",
   "execution_count": 23,
   "metadata": {},
   "outputs": [],
   "source": [
    "import requests"
   ]
  },
  {
   "cell_type": "code",
   "execution_count": 41,
   "metadata": {},
   "outputs": [
    {
     "name": "stdout",
     "output_type": "stream",
     "text": [
      "Recommended Songs:\n",
      "1) \"Magic\" by Olivia Newton-John\n",
      "2) \"He's the Greatest Dancer\" by Sister Sledge\n",
      "3) \"Walk on By\" by Dionne Warwick\n",
      "4) \"Dancing On The Ceiling\" by Lionel Richie\n",
      "5) \"(Just Like) Starting Over - Remastered 2010\" by John Lennon\n",
      "6) \"I Want Your Love - 2018 Remaster\" by CHIC\n",
      "7) \"If It Wasn't For The Nights\" by ABBA\n",
      "8) \"Life Itself\" by Glass Animals\n",
      "9) \"Stayin Alive\" by Bee Gees\n",
      "10) \"September\" by Earth, Wind & Fire\n",
      "11) \"More Than A Woman - Remastered\" by Tavares\n",
      "12) \"Die Young\" by Sylvan Esso\n",
      "13) \"Uptown Girl\" by Billy Joel\n",
      "14) \"The Dress Looks Nice on You\" by Sufjan Stevens\n",
      "15) \"Love You Inside Out\" by Bee Gees\n",
      "16) \"I Dreamt We Spoke Again\" by Death Cab for Cutie\n",
      "17) \"HEAT\" by BROCKHAMPTON\n",
      "18) \"Rasputin - 7\" Version\" by Boney M.\n",
      "19) \"Forever In Blue Jeans\" by Neil Diamond\n",
      "20) \"Holding Back the Years - 2008 Remaster\" by Simply Red\n"
     ]
    }
   ],
   "source": [
    "# SETTINGS \n",
    "endpoint_url = \"https://api.spotify.com/v1/recommendations?\"\n",
    "token = \"BQDJvrJgFT8W5_ldgEweQ0ev-4VxBBf6Q5j-RnTLcAliMvo2rt94DdUmVkRPY0xRCYnvytod-Q92SWymiKQEgBfMeCqIWHLz_vr5fZEd0n0IqRT95zfqR5HgtmL050P2DNbIzGUksCMM7KOnaNXThajXcZXWMJUN56GTmTbPijYSO9tFRAkSpg\"\n",
    "user_id = \"carsongcrenshaw\"\n",
    "\n",
    "# OUR FILTERS\n",
    "limit=20\n",
    "market=\"US\"\n",
    "seed_genres=\"indie\"\n",
    "target_danceability=0.7\n",
    "uris = [] \n",
    "seed_artists = '1LZEQNv7sE11VDY3SdxQeN'\n",
    "seed_tracks='2cX2coZS1PYBfPs8wgbdWE'\n",
    "\n",
    "# PERFORM THE QUERY\n",
    "query = f'{endpoint_url}limit={limit}&market={market}&seed_genres={seed_genres}&target_danceability={target_danceability}'\n",
    "query += f'&seed_artists={seed_artists}'\n",
    "query += f'&seed_tracks={seed_tracks}'\n",
    "\n",
    "response = requests.get(query, \n",
    "               headers={\"Content-Type\":\"application/json\", \n",
    "                        \"Authorization\":f\"Bearer {token}\"})\n",
    "json_response = response.json()\n",
    "\n",
    "print('Recommended Songs:')\n",
    "for i,j in enumerate(json_response['tracks']):\n",
    "            uris.append(j['uri'])\n",
    "            print(f\"{i+1}) \\\"{j['name']}\\\" by {j['artists'][0]['name']}\")"
   ]
  },
  {
   "cell_type": "code",
   "execution_count": 45,
   "metadata": {},
   "outputs": [
    {
     "name": "stdout",
     "output_type": "stream",
     "text": [
      "201\n"
     ]
    }
   ],
   "source": [
    "# CREATE A NEW PLAYLIST\n",
    "\n",
    "import requests\n",
    "import json \n",
    "\n",
    "endpoint_url = f\"https://api.spotify.com/v1/users/{user_id}/playlists\"\n",
    "\n",
    "request_body = json.dumps({\n",
    "          \"name\": \"the c in women stands for computer science\",\n",
    "          \"description\": \"this stuff came from code in a jupyter notebook\",\n",
    "          \"public\": False\n",
    "        })\n",
    "response = requests.post(url = endpoint_url, data = request_body, headers={\"Content-Type\":\"application/json\", \n",
    "                        \"Authorization\":f\"Bearer {token}\"})\n",
    "\n",
    "url = response.json()['external_urls']['spotify']\n",
    "print(response.status_code)"
   ]
  },
  {
   "cell_type": "code",
   "execution_count": 46,
   "metadata": {},
   "outputs": [
    {
     "name": "stdout",
     "output_type": "stream",
     "text": [
      "201\n"
     ]
    }
   ],
   "source": [
    "# FILL THE NEW PLAYLIST WITH THE RECOMMENDATIONS\n",
    "\n",
    "playlist_id = response.json()['id']\n",
    "\n",
    "endpoint_url = f\"https://api.spotify.com/v1/playlists/{playlist_id}/tracks\"\n",
    "\n",
    "request_body = json.dumps({\n",
    "          \"uris\" : uris\n",
    "        })\n",
    "response = requests.post(url = endpoint_url, data = request_body, headers={\"Content-Type\":\"application/json\", \n",
    "                        \"Authorization\":f\"Bearer {token}\"})\n",
    "\n",
    "print(response.status_code)"
   ]
  },
  {
   "cell_type": "code",
   "execution_count": 47,
   "metadata": {},
   "outputs": [
    {
     "name": "stdout",
     "output_type": "stream",
     "text": [
      "Your playlist is ready at https://open.spotify.com/playlist/0ZFU4p1wQuuaoS31u1GiFz\n"
     ]
    }
   ],
   "source": [
    "print(f'Your playlist is ready at {url}')"
   ]
  }
 ],
 "metadata": {
  "kernelspec": {
   "display_name": "Python [conda env:dsua-111]",
   "language": "python",
   "name": "conda-env-dsua-111-py"
  },
  "language_info": {
   "codemirror_mode": {
    "name": "ipython",
    "version": 3
   },
   "file_extension": ".py",
   "mimetype": "text/x-python",
   "name": "python",
   "nbconvert_exporter": "python",
   "pygments_lexer": "ipython3",
   "version": "3.7.7"
  }
 },
 "nbformat": 4,
 "nbformat_minor": 4
}
