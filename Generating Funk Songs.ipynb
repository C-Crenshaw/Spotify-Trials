{
 "cells": [
  {
   "cell_type": "code",
   "execution_count": 23,
   "metadata": {},
   "outputs": [],
   "source": [
    "import requests"
   ]
  },
  {
   "cell_type": "code",
   "execution_count": 36,
   "metadata": {},
   "outputs": [
    {
     "name": "stdout",
     "output_type": "stream",
     "text": [
      "Recommended Songs:\n",
      "1) \"I Can't Go for That (No Can Do)\" by Daryl Hall & John Oates\n",
      "2) \"Le Freak - 2018 Remaster\" by CHIC\n",
      "3) \"Get Down On It\" by Kool & The Gang\n",
      "4) \"Let's Groove\" by Earth, Wind & Fire\n",
      "5) \"Thank You (Falettinme Be Mice Elf Agin) - Single Version\" by Sly & The Family Stone\n",
      "6) \"Everything She Wants\" by Wham!\n",
      "7) \"Funkytown\" by Lipps Inc.\n",
      "8) \"Boogie Shoes - 2004 Remaster\" by KC & The Sunshine Band\n",
      "9) \"Celebration\" by Kool & The Gang\n",
      "10) \"Shake Your Groove Thing\" by Peaches & Herb\n",
      "11) \"Arrow Through Me - Remastered 1993\" by Wings\n",
      "12) \"Get Up Offa That Thing\" by James Brown\n",
      "13) \"Funky Town\" by Lipps Inc.\n",
      "14) \"Give It Up\" by KC & The Sunshine Band\n",
      "15) \"You Can Do Magic\" by America\n",
      "16) \"Give Me the Night\" by George Benson\n",
      "17) \"Private Eyes\" by Daryl Hall & John Oates\n",
      "18) \"Jump (Original Mix)\" by The Pointer Sisters\n",
      "19) \"Bad Girls\" by Donna Summer\n",
      "20) \"It's Your Move\" by Diana Ross\n"
     ]
    }
   ],
   "source": [
    "# SETTINGS \n",
    "endpoint_url = \"https://api.spotify.com/v1/recommendations?\"\n",
    "token = \"BQDJvrJgFT8W5_ldgEweQ0ev-4VxBBf6Q5j-RnTLcAliMvo2rt94DdUmVkRPY0xRCYnvytod-Q92SWymiKQEgBfMeCqIWHLz_vr5fZEd0n0IqRT95zfqR5HgtmL050P2DNbIzGUksCMM7KOnaNXThajXcZXWMJUN56GTmTbPijYSO9tFRAkSpg\"\n",
    "user_id = \"carsongcrenshaw\"\n",
    "\n",
    "# OUR FILTERS\n",
    "limit=20\n",
    "market=\"US\"\n",
    "seed_genres=\"funk\"\n",
    "target_danceability=0.9\n",
    "uris = [] \n",
    "seed_artists = '1LZEQNv7sE11VDY3SdxQeN'\n",
    "seed_tracks='2cX2coZS1PYBfPs8wgbdWE'\n",
    "\n",
    "# PERFORM THE QUERY\n",
    "query = f'{endpoint_url}limit={limit}&market={market}&seed_genres={seed_genres}&target_danceability={target_danceability}'\n",
    "query += f'&seed_artists={seed_artists}'\n",
    "query += f'&seed_tracks={seed_tracks}'\n",
    "\n",
    "response = requests.get(query, \n",
    "               headers={\"Content-Type\":\"application/json\", \n",
    "                        \"Authorization\":f\"Bearer {token}\"})\n",
    "json_response = response.json()\n",
    "\n",
    "print('Recommended Songs:')\n",
    "for i,j in enumerate(json_response['tracks']):\n",
    "            uris.append(j['uri'])\n",
    "            print(f\"{i+1}) \\\"{j['name']}\\\" by {j['artists'][0]['name']}\")"
   ]
  }
 ],
 "metadata": {
  "kernelspec": {
   "display_name": "Python [conda env:dsua-111]",
   "language": "python",
   "name": "conda-env-dsua-111-py"
  },
  "language_info": {
   "codemirror_mode": {
    "name": "ipython",
    "version": 3
   },
   "file_extension": ".py",
   "mimetype": "text/x-python",
   "name": "python",
   "nbconvert_exporter": "python",
   "pygments_lexer": "ipython3",
   "version": "3.7.7"
  }
 },
 "nbformat": 4,
 "nbformat_minor": 4
}
