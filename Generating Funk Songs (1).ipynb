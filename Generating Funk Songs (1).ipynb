{
 "cells": [
  {
   "cell_type": "code",
   "execution_count": 23,
   "metadata": {},
   "outputs": [],
   "source": [
    "import requests"
   ]
  },
  {
   "cell_type": "code",
   "execution_count": 37,
   "metadata": {},
   "outputs": [
    {
     "name": "stdout",
     "output_type": "stream",
     "text": [
      "Recommended Songs:\n",
      "1) \"Sexbomb\" by Tom Jones\n",
      "2) \"Georgy Porgy\" by TOTO\n",
      "3) \"Designer Music\" by Lipps Inc.\n",
      "4) \"Ain't Nobody\" by Chaka Khan\n",
      "5) \"Boogie Wonderland\" by Earth, Wind & Fire\n",
      "6) \"Hot Stuff - 12\" Version\" by Donna Summer\n",
      "7) \"Hold On, I'm Comin'\" by Sam & Dave\n",
      "8) \"Respect\" by Aretha Franklin\n",
      "9) \"She’s My Baby - Remastered 2014\" by Wings\n",
      "10) \"Jungle Boogie\" by Kool & The Gang\n",
      "11) \"You Sexy Thing\" by Hot Chocolate\n",
      "12) \"Mr. Pitiful\" by Otis Redding\n",
      "13) \"Jive Talkin' - From \"Saturday Night Fever\" Soundtrack\" by Bee Gees\n",
      "14) \"Got To Be Real - Single Version\" by Cheryl Lynn\n",
      "15) \"Let's Take a Walk\" by Raphael Saadiq\n",
      "16) \"Sumthin' Sumthin'\" by Maxwell\n",
      "17) \"Green Onions - 45 Version\" by Booker T. & the M.G.'s\n",
      "18) \"Are You Ready For Love? - Remastered\" by Elton John\n",
      "19) \"Still Waters (Run Deep)\" by Bee Gees\n",
      "20) \"Everyday People\" by Sly & The Family Stone\n"
     ]
    }
   ],
   "source": [
    "# SETTINGS \n",
    "endpoint_url = \"https://api.spotify.com/v1/recommendations?\"\n",
    "token = \"BQDJvrJgFT8W5_ldgEweQ0ev-4VxBBf6Q5j-RnTLcAliMvo2rt94DdUmVkRPY0xRCYnvytod-Q92SWymiKQEgBfMeCqIWHLz_vr5fZEd0n0IqRT95zfqR5HgtmL050P2DNbIzGUksCMM7KOnaNXThajXcZXWMJUN56GTmTbPijYSO9tFRAkSpg\"\n",
    "user_id = \"carsongcrenshaw\"\n",
    "\n",
    "# OUR FILTERS\n",
    "limit=20\n",
    "market=\"US\"\n",
    "seed_genres=\"soul\"\n",
    "target_danceability=0.8\n",
    "uris = [] \n",
    "seed_artists = '1LZEQNv7sE11VDY3SdxQeN'\n",
    "seed_tracks='2cX2coZS1PYBfPs8wgbdWE'\n",
    "\n",
    "# PERFORM THE QUERY\n",
    "query = f'{endpoint_url}limit={limit}&market={market}&seed_genres={seed_genres}&target_danceability={target_danceability}'\n",
    "query += f'&seed_artists={seed_artists}'\n",
    "query += f'&seed_tracks={seed_tracks}'\n",
    "\n",
    "response = requests.get(query, \n",
    "               headers={\"Content-Type\":\"application/json\", \n",
    "                        \"Authorization\":f\"Bearer {token}\"})\n",
    "json_response = response.json()\n",
    "\n",
    "print('Recommended Songs:')\n",
    "for i,j in enumerate(json_response['tracks']):\n",
    "            uris.append(j['uri'])\n",
    "            print(f\"{i+1}) \\\"{j['name']}\\\" by {j['artists'][0]['name']}\")"
   ]
  }
 ],
 "metadata": {
  "kernelspec": {
   "display_name": "Python [conda env:dsua-111]",
   "language": "python",
   "name": "conda-env-dsua-111-py"
  },
  "language_info": {
   "codemirror_mode": {
    "name": "ipython",
    "version": 3
   },
   "file_extension": ".py",
   "mimetype": "text/x-python",
   "name": "python",
   "nbconvert_exporter": "python",
   "pygments_lexer": "ipython3",
   "version": "3.7.7"
  }
 },
 "nbformat": 4,
 "nbformat_minor": 4
}
